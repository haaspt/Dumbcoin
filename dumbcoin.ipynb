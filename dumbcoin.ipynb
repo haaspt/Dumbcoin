{
 "cells": [
  {
   "cell_type": "code",
   "execution_count": 1,
   "metadata": {
    "collapsed": true
   },
   "outputs": [],
   "source": [
    "from dumbcoin import Blockchain"
   ]
  },
  {
   "cell_type": "code",
   "execution_count": 2,
   "metadata": {
    "collapsed": true
   },
   "outputs": [],
   "source": [
    "# Initialize a blockchain with 2000 initial coins\n",
    "dumbcoin = Blockchain(2000)"
   ]
  },
  {
   "cell_type": "code",
   "execution_count": 3,
   "metadata": {},
   "outputs": [
    {
     "name": "stdout",
     "output_type": "stream",
     "text": [
      "Block: 0,\n",
      "Time: 1516323535.1209543,\n",
      "Proof: 30814,\n",
      "Transactions: [{'recipient': 'genesis', 'sender': None, 'timestamp': 1516323535.1209543, 'amount': 2000}]\n",
      "\n",
      "True\n"
     ]
    }
   ],
   "source": [
    "# Print the blockchain and confirm that it is valid\n",
    "dumbcoin.print_blockchain(dumbcoin.last_block)\n",
    "print(dumbcoin.verify_blockchain(dumbcoin.last_block))"
   ]
  },
  {
   "cell_type": "code",
   "execution_count": 4,
   "metadata": {
    "collapsed": true
   },
   "outputs": [],
   "source": [
    "# Set up some initial transactions\n",
    "dumbcoin.add_transaction(\"genesis\", \"adam\", 1000)\n",
    "dumbcoin.add_transaction(\"genesis\", \"eve\", 1000)\n",
    "# And add them into a new block\n",
    "dumbcoin.add_block()\n",
    "\n",
    "# And some more giving\n",
    "dumbcoin.add_transaction(\"adam\", \"cain\", 100)\n",
    "dumbcoin.add_transaction(\"adam\", \"abel\", 200)\n",
    "dumbcoin.add_block()"
   ]
  },
  {
   "cell_type": "code",
   "execution_count": 5,
   "metadata": {},
   "outputs": [
    {
     "name": "stdout",
     "output_type": "stream",
     "text": [
      "Block: 2,\n",
      "Time: 1516323537.2901523,\n",
      "Proof: 30089,\n",
      "Transactions: [{'recipient': 'adam', 'sender': 'genesis', 'timestamp': 1516323537.1189804, 'amount': 1000}, {'recipient': 'eve', 'sender': 'genesis', 'timestamp': 1516323537.1190474, 'amount': 1000}, {'recipient': 'cain', 'sender': 'adam', 'timestamp': 1516323537.2900796, 'amount': 100}, {'recipient': 'abel', 'sender': 'adam', 'timestamp': 1516323537.2901201, 'amount': 200}]\n",
      "\n",
      "Block: 1,\n",
      "Time: 1516323537.1191185,\n",
      "Proof: 81750,\n",
      "Transactions: [{'recipient': 'adam', 'sender': 'genesis', 'timestamp': 1516323537.1189804, 'amount': 1000}, {'recipient': 'eve', 'sender': 'genesis', 'timestamp': 1516323537.1190474, 'amount': 1000}, {'recipient': 'cain', 'sender': 'adam', 'timestamp': 1516323537.2900796, 'amount': 100}, {'recipient': 'abel', 'sender': 'adam', 'timestamp': 1516323537.2901201, 'amount': 200}]\n",
      "\n",
      "Block: 0,\n",
      "Time: 1516323535.1209543,\n",
      "Proof: 30814,\n",
      "Transactions: [{'recipient': 'genesis', 'sender': None, 'timestamp': 1516323535.1209543, 'amount': 2000}]\n",
      "\n",
      "True\n"
     ]
    }
   ],
   "source": [
    "# Print and verify the new chain\n",
    "dumbcoin.print_blockchain(dumbcoin.last_block)\n",
    "print(dumbcoin.verify_blockchain(dumbcoin.last_block))"
   ]
  },
  {
   "cell_type": "code",
   "execution_count": 6,
   "metadata": {},
   "outputs": [
    {
     "name": "stdout",
     "output_type": "stream",
     "text": [
      "[{'recipient': 'adam', 'sender': 'genesis', 'timestamp': 1516323537.1189804, 'amount': 1000}, {'recipient': 'eve', 'sender': 'genesis', 'timestamp': 1516323537.1190474, 'amount': 1000}, {'recipient': 'cain', 'sender': 'adam', 'timestamp': 1516323537.2900796, 'amount': 100}, {'recipient': 'abel', 'sender': 'adam', 'timestamp': 1516323537.2901201, 'amount': 200}, {'recipient': 'adam', 'sender': 'genesis', 'timestamp': 1516323537.1189804, 'amount': 1000}, {'recipient': 'eve', 'sender': 'genesis', 'timestamp': 1516323537.1190474, 'amount': 1000}, {'recipient': 'cain', 'sender': 'adam', 'timestamp': 1516323537.2900796, 'amount': 100}, {'recipient': 'abel', 'sender': 'adam', 'timestamp': 1516323537.2901201, 'amount': 200}, {'recipient': 'genesis', 'sender': None, 'timestamp': 1516323535.1209543, 'amount': 2000}]\n",
      "[{'recipient': 'genesis', 'sender': None, 'timestamp': 1516323535.1209543, 'amount': 2000}, {'recipient': 'adam', 'sender': 'genesis', 'timestamp': 1516323537.1189804, 'amount': 1000}, {'recipient': 'adam', 'sender': 'genesis', 'timestamp': 1516323537.1189804, 'amount': 1000}, {'recipient': 'eve', 'sender': 'genesis', 'timestamp': 1516323537.1190474, 'amount': 1000}, {'recipient': 'eve', 'sender': 'genesis', 'timestamp': 1516323537.1190474, 'amount': 1000}, {'recipient': 'cain', 'sender': 'adam', 'timestamp': 1516323537.2900796, 'amount': 100}, {'recipient': 'cain', 'sender': 'adam', 'timestamp': 1516323537.2900796, 'amount': 100}, {'recipient': 'abel', 'sender': 'adam', 'timestamp': 1516323537.2901201, 'amount': 200}, {'recipient': 'abel', 'sender': 'adam', 'timestamp': 1516323537.2901201, 'amount': 200}]\n"
     ]
    }
   ],
   "source": [
    "transactions = dumbcoin.get_settled_transactions(dumbcoin.last_block)\n",
    "print(transactions)\n",
    "\n",
    "transactions.sort(key=(lambda x: x['timestamp']), reverse=False)\n",
    "print(transactions)"
   ]
  },
  {
   "cell_type": "code",
   "execution_count": 7,
   "metadata": {},
   "outputs": [
    {
     "name": "stdout",
     "output_type": "stream",
     "text": [
      "Block: 2,\n",
      "Time: 1516323537.2901523,\n",
      "Proof: 30089,\n",
      "Transactions: [{'recipient': 'adam', 'sender': 'genesis', 'timestamp': 1516323537.1189804, 'amount': 1000}, {'recipient': 'eve', 'sender': 'genesis', 'timestamp': 1516323537.1190474, 'amount': 1000}, {'recipient': 'cain', 'sender': 'adam', 'timestamp': 1516323537.2900796, 'amount': 100}, {'recipient': 'abel', 'sender': 'adam', 'timestamp': 1516323537.2901201, 'amount': 200}]\n",
      "\n",
      "Block: 1,\n",
      "Time: 1516323537.1191185,\n",
      "Proof: 81750,\n",
      "Transactions: [{'recipient': 'adam', 'sender': 'genesis', 'timestamp': 1516323537.1189804, 'amount': 1000}, {'recipient': 'eve', 'sender': 'genesis', 'timestamp': 1516323537.1190474, 'amount': 1000}, {'recipient': 'cain', 'sender': 'adam', 'timestamp': 1516323537.2900796, 'amount': 100}, {'recipient': 'abel', 'sender': 'adam', 'timestamp': 1516323537.2901201, 'amount': 200}]\n",
      "\n",
      "Block: 0,\n",
      "Time: 1516323535.1209543,\n",
      "Proof: 30814,\n",
      "Transactions: [{'recipient': 'genesis', 'sender': None, 'timestamp': 1516323535.1209543, 'amount': 2000}]\n",
      "\n"
     ]
    }
   ],
   "source": [
    "print(dumbcoin)"
   ]
  },
  {
   "cell_type": "code",
   "execution_count": null,
   "metadata": {
    "collapsed": true
   },
   "outputs": [],
   "source": []
  }
 ],
 "metadata": {
  "kernelspec": {
   "display_name": "Python 3",
   "language": "python",
   "name": "python3"
  },
  "language_info": {
   "codemirror_mode": {
    "name": "ipython",
    "version": 3
   },
   "file_extension": ".py",
   "mimetype": "text/x-python",
   "name": "python",
   "nbconvert_exporter": "python",
   "pygments_lexer": "ipython3",
   "version": "3.4.3"
  }
 },
 "nbformat": 4,
 "nbformat_minor": 2
}
