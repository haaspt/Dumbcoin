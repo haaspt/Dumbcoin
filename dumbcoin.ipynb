{
 "cells": [
  {
   "cell_type": "code",
   "execution_count": 34,
   "metadata": {
    "collapsed": false,
    "deletable": true,
    "editable": true
   },
   "outputs": [],
   "source": [
    "from hashlib import sha256\n",
    "import json\n",
    "import time"
   ]
  },
  {
   "cell_type": "code",
   "execution_count": 35,
   "metadata": {
    "collapsed": false,
    "deletable": true,
    "editable": true
   },
   "outputs": [],
   "source": [
    "class Block():\n",
    "    \n",
    "    def __init__(self, index, timestamp, transactions, proof, previous_block):\n",
    "        self.index = index\n",
    "        self.timestamp = timestamp\n",
    "        self.transactions = transactions\n",
    "        self.proof = proof\n",
    "        self.previous_block = previous_block\n",
    "        self.hash = self.get_hash()\n",
    "        \n",
    "    def get_hash(self):\n",
    "        if self.transactions:\n",
    "            block_string = \"{}{}{}\".format(self.index,\n",
    "                                           self.timestamp,\n",
    "                                           json.dumps(self.transactions))\n",
    "        else:\n",
    "            block_string = \"{}{}\".format(self.index,\n",
    "                                         self.timestamp)\n",
    "            \n",
    "        hash_value = sha256(block_string.encode()).hexdigest()\n",
    "        return hash_value\n",
    "        \n",
    "    "
   ]
  },
  {
   "cell_type": "code",
   "execution_count": 66,
   "metadata": {
    "collapsed": false,
    "deletable": true,
    "editable": true
   },
   "outputs": [],
   "source": [
    "class Blockchain():\n",
    "    \n",
    "    def __init__(self):\n",
    "        self.blockchain = []\n",
    "        self.transactions = []\n",
    "        self.last_block = None\n",
    "        \n",
    "    def add_block(self, )\n",
    "        \n",
    "    def add_transaction(self, sender, recipient, amount, timestamp=None):\n",
    "        if not timestamp:\n",
    "            timestamp = time.time()\n",
    "        transaction = {\"sender\": sender,\n",
    "                      \"recipient\": recipient,\n",
    "                      \"amount\": amount,\n",
    "                      \"timestamp\": timestamp}\n",
    "        self.transactions.append(transaction)\n",
    "        \n",
    "    @staticmethod\n",
    "    def find_proof(hash_string, starting_value=0):\n",
    "        proof = starting_value\n",
    "        proof_found = False\n",
    "        while not proof_found:\n",
    "            hash_value = sha256(\"{}{}\".format(hash_string, proof).encode()).hexdigest()\n",
    "            if hash_value[:4] == \"0000\":\n",
    "                proof_found = True\n",
    "            proof += 1\n",
    "        \n",
    "        return proof\n",
    "    \n",
    "    @staticmethod\n",
    "    def create_genesis_block():\n",
    "        index = 0\n",
    "        timestamp = time.time()\n",
    "    \n",
    "        genesis_hash = sha256(\"{}{}\".format(index, timestamp).encode()).hexdigest()\n",
    "    \n",
    "        proof = 0\n",
    "        proof_found = False\n",
    "        while not proof_found:\n",
    "            hash_value = sha256(\"{}{}\".format(genesis_hash, proof).encode()).hexdigest()\n",
    "            if hash_value[:4] == \"0000\":\n",
    "                proof_found = True\n",
    "            proof += 1\n",
    "    \n",
    "        genesis_block = Block(0, timestamp, None, proof, None)\n",
    "        return genesis_block\n",
    "    \n",
    "    @staticmethod\n",
    "    def mine_block(data, previous_block):\n",
    "        index = previous_block.index\n",
    "        timestamp = time.time()\n",
    "        block_string = \"{}{}{}\".format(index,\n",
    "                                      timestamp,\n",
    "                                      json.dumps(data))\n",
    "        proof = Blockchain.find_proof(block_string)\n",
    "        new_block = Block(index, timestamp, data, proof, previous_block)\n",
    "        return new_block"
   ]
  },
  {
   "cell_type": "code",
   "execution_count": 67,
   "metadata": {
    "collapsed": false,
    "deletable": true,
    "editable": true
   },
   "outputs": [
    {
     "name": "stdout",
     "output_type": "stream",
     "text": [
      "228045\n",
      "228045\n"
     ]
    }
   ],
   "source": [
    "sample_transactions = {\"sender\": \"tyler\",\n",
    "                      \"reviever\": \"luke\",\n",
    "                      \"amount\": 50,\n",
    "                      \"timestamp\": time.time()}\n",
    "\n",
    "genesis = Blockchain.create_genesis_block()\n",
    "print(genesis.proof)\n",
    "\n",
    "block = Blockchain.mine_block(sample_transactions, genesis)\n",
    "print(block.previous_block.proof)"
   ]
  },
  {
   "cell_type": "code",
   "execution_count": null,
   "metadata": {
    "collapsed": true
   },
   "outputs": [],
   "source": []
  }
 ],
 "metadata": {
  "kernelspec": {
   "display_name": "Python 3",
   "language": "python",
   "name": "python3"
  },
  "language_info": {
   "codemirror_mode": {
    "name": "ipython",
    "version": 3
   },
   "file_extension": ".py",
   "mimetype": "text/x-python",
   "name": "python",
   "nbconvert_exporter": "python",
   "pygments_lexer": "ipython3",
   "version": "3.6.4"
  }
 },
 "nbformat": 4,
 "nbformat_minor": 2
}
