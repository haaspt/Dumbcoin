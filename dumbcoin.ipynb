{
 "cells": [
  {
   "cell_type": "code",
   "execution_count": 1,
   "metadata": {
    "collapsed": true
   },
   "outputs": [],
   "source": [
    "from dumbcoin import Blockchain\n",
    "import time"
   ]
  },
  {
   "cell_type": "code",
   "execution_count": 2,
   "metadata": {},
   "outputs": [
    {
     "name": "stdout",
     "output_type": "stream",
     "text": [
      "Genesis block mined in 0.3972729999986768s\n"
     ]
    }
   ],
   "source": [
    "# Initialize a blockchain with 2000 initial coins\n",
    "dumbcoin = Blockchain(2000)"
   ]
  },
  {
   "cell_type": "code",
   "execution_count": 3,
   "metadata": {},
   "outputs": [
    {
     "name": "stdout",
     "output_type": "stream",
     "text": [
      "Block: 0,\n",
      "Time: 1516399579.3628569,\n",
      "Proof: 167701,\n",
      "Transactions: {'amount': 2000, 'sender': None, 'timestamp': 1516399579.3628569, 'recipient': 'genesis'}\n",
      "\n",
      "True\n"
     ]
    }
   ],
   "source": [
    "# Print the blockchain and confirm that it is valid\n",
    "print(dumbcoin)\n",
    "print(dumbcoin.verify_blockchain())"
   ]
  },
  {
   "cell_type": "code",
   "execution_count": 4,
   "metadata": {
    "scrolled": false
   },
   "outputs": [
    {
     "name": "stdout",
     "output_type": "stream",
     "text": [
      "Staging transaction: {'amount': 1000, 'sender': 'genesis', 'timestamp': 1516399580.2785423, 'recipient': 'adam'}\n",
      "Validating transaction: {'amount': 1000, 'sender': 'genesis', 'timestamp': 1516399580.2785423, 'recipient': 'adam'}\n",
      "Transaction validated against ledger\n",
      "Transaction stagged. 1 transactions awaiting mining\n",
      "Staging transaction: {'amount': 1000, 'sender': 'genesis', 'timestamp': 1516399580.27939, 'recipient': 'eve'}\n",
      "Validating transaction: {'amount': 1000, 'sender': 'genesis', 'timestamp': 1516399580.27939, 'recipient': 'eve'}\n",
      "Transaction validated against ledger\n",
      "Transaction stagged. 2 transactions awaiting mining\n",
      "Mining new block with 2 transactions\n",
      "New block at index 1 mined in 0.12091999999938707s\n",
      "Block successfully added to blockchain at index 1\n",
      "Staging transaction: {'amount': 100, 'sender': 'adam', 'timestamp': 1516399580.4013183, 'recipient': 'cain'}\n",
      "Validating transaction: {'amount': 100, 'sender': 'adam', 'timestamp': 1516399580.4013183, 'recipient': 'cain'}\n",
      "Transaction validated against ledger\n",
      "Transaction stagged. 1 transactions awaiting mining\n",
      "Staging transaction: {'amount': 200, 'sender': 'adam', 'timestamp': 1516399580.4018154, 'recipient': 'abel'}\n",
      "Validating transaction: {'amount': 200, 'sender': 'adam', 'timestamp': 1516399580.4018154, 'recipient': 'abel'}\n",
      "Transaction validated against ledger\n",
      "Transaction stagged. 2 transactions awaiting mining\n",
      "Mining new block with 2 transactions\n",
      "New block at index 2 mined in 0.31420799999978044s\n",
      "Block successfully added to blockchain at index 2\n"
     ]
    }
   ],
   "source": [
    "# Set up some initial transactions\n",
    "dumbcoin.add_transaction(\"genesis\", \"adam\", 1000)\n",
    "dumbcoin.add_transaction(\"genesis\", \"eve\", 1000)\n",
    "# And add them into a new block\n",
    "dumbcoin.add_block()\n",
    "\n",
    "# And some more giving\n",
    "dumbcoin.add_transaction(\"adam\", \"cain\", 100)\n",
    "dumbcoin.add_transaction(\"adam\", \"abel\", 200)\n",
    "dumbcoin.add_block()"
   ]
  },
  {
   "cell_type": "code",
   "execution_count": 6,
   "metadata": {
    "scrolled": true
   },
   "outputs": [
    {
     "name": "stdout",
     "output_type": "stream",
     "text": [
      "Block: 2,\n",
      "Time: 1516399580.4023788,\n",
      "Proof: 156707,\n",
      "Transactions: {'amount': 100, 'sender': 'adam', 'timestamp': 1516399580.4013183, 'recipient': 'cain'}\n",
      "{'amount': 200, 'sender': 'adam', 'timestamp': 1516399580.4018154, 'recipient': 'abel'}\n",
      "\n",
      "Block: 1,\n",
      "Time: 1516399580.2799523,\n",
      "Proof: 40733,\n",
      "Transactions: {'amount': 1000, 'sender': 'genesis', 'timestamp': 1516399580.2785423, 'recipient': 'adam'}\n",
      "{'amount': 1000, 'sender': 'genesis', 'timestamp': 1516399580.27939, 'recipient': 'eve'}\n",
      "\n",
      "Block: 0,\n",
      "Time: 1516399579.3628569,\n",
      "Proof: 167701,\n",
      "Transactions: {'amount': 2000, 'sender': None, 'timestamp': 1516399579.3628569, 'recipient': 'genesis'}\n",
      "\n",
      "True\n"
     ]
    }
   ],
   "source": [
    "# Print and verify the new chain\n",
    "print(dumbcoin)\n",
    "print(dumbcoin.verify_blockchain())"
   ]
  },
  {
   "cell_type": "code",
   "execution_count": 7,
   "metadata": {},
   "outputs": [
    {
     "name": "stdout",
     "output_type": "stream",
     "text": [
      "{'amount': 2000, 'sender': None, 'timestamp': 1516399579.3628569, 'recipient': 'genesis'}\n",
      "{'amount': 1000, 'sender': 'genesis', 'timestamp': 1516399580.2785423, 'recipient': 'adam'}\n",
      "{'amount': 1000, 'sender': 'genesis', 'timestamp': 1516399580.27939, 'recipient': 'eve'}\n",
      "{'amount': 100, 'sender': 'adam', 'timestamp': 1516399580.4013183, 'recipient': 'cain'}\n",
      "{'amount': 200, 'sender': 'adam', 'timestamp': 1516399580.4018154, 'recipient': 'abel'}\n"
     ]
    }
   ],
   "source": [
    "transactions = dumbcoin.get_settled_transactions()\n",
    "for transaction in transactions:\n",
    "    print(transaction)"
   ]
  },
  {
   "cell_type": "code",
   "execution_count": 8,
   "metadata": {},
   "outputs": [
    {
     "data": {
      "text/plain": [
       "3"
      ]
     },
     "execution_count": 8,
     "metadata": {},
     "output_type": "execute_result"
    }
   ],
   "source": [
    "len(dumbcoin)"
   ]
  },
  {
   "cell_type": "code",
   "execution_count": 10,
   "metadata": {},
   "outputs": [
    {
     "name": "stdout",
     "output_type": "stream",
     "text": [
      "{'genesis': 0, 'abel': 200, 'cain': 100, 'adam': 700, 'eve': 1000}\n",
      "Validating transaction: {'amount': 200, 'sender': 'adam', 'timestamp': 1516399639.8680868, 'recipient': 'eve'}\n",
      "True\n",
      "Validating transaction: {'amount': 20000, 'sender': 'adam', 'timestamp': 1516399639.8684483, 'recipient': 'cain'}\n",
      "False\n",
      "Validating transaction: {'amount': 700, 'sender': 'lucifer', 'timestamp': 1516399639.86877, 'recipient': 'cain'}\n",
      "False\n"
     ]
    }
   ],
   "source": [
    "ledger = dumbcoin.create_ledger(transactions)\n",
    "print(ledger)\n",
    "valid_trans = {\"sender\": \"adam\", \"recipient\": \"eve\", \"amount\": 200, \"timestamp\": time.time()}\n",
    "print(dumbcoin.validate_transaction(valid_trans, transactions))\n",
    "invalid_trans = {\"sender\": \"adam\", \"recipient\": \"cain\", \"amount\": 20000, \"timestamp\": time.time()}\n",
    "print(dumbcoin.validate_transaction(invalid_trans, transactions))\n",
    "really_invalid_trans = {\"sender\": \"lucifer\", \"recipient\": \"cain\", \"amount\": 700, \"timestamp\": time.time()}\n",
    "print(dumbcoin.validate_transaction(really_invalid_trans, transactions))"
   ]
  },
  {
   "cell_type": "code",
   "execution_count": null,
   "metadata": {
    "collapsed": true
   },
   "outputs": [],
   "source": []
  }
 ],
 "metadata": {
  "kernelspec": {
   "display_name": "Python 3",
   "language": "python",
   "name": "python3"
  },
  "language_info": {
   "codemirror_mode": {
    "name": "ipython",
    "version": 3
   },
   "file_extension": ".py",
   "mimetype": "text/x-python",
   "name": "python",
   "nbconvert_exporter": "python",
   "pygments_lexer": "ipython3",
   "version": "3.4.3"
  }
 },
 "nbformat": 4,
 "nbformat_minor": 2
}
