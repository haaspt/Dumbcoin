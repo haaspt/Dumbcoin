{
 "cells": [
  {
   "cell_type": "code",
   "execution_count": 1,
   "metadata": {},
   "outputs": [],
   "source": [
    "from dumbcoin import Blockchain, BlockchainException\n",
    "import time"
   ]
  },
  {
   "cell_type": "code",
   "execution_count": 2,
   "metadata": {},
   "outputs": [],
   "source": [
    "# Initialize a blockchain with 2000 initial coins\n",
    "dumbcoin = Blockchain(2000)"
   ]
  },
  {
   "cell_type": "code",
   "execution_count": 3,
   "metadata": {},
   "outputs": [
    {
     "name": "stdout",
     "output_type": "stream",
     "text": [
      "Block: 0,\n",
      "Time: 1516342021.5914938,\n",
      "Proof: 57730,\n",
      "Transactions: [{'sender': None, 'recipient': 'genesis', 'amount': 2000, 'timestamp': 1516342021.5914938}]\n",
      "\n",
      "True\n"
     ]
    }
   ],
   "source": [
    "# Print the blockchain and confirm that it is valid\n",
    "print(dumbcoin)\n",
    "print(dumbcoin.verify_blockchain(dumbcoin.last_block))"
   ]
  },
  {
   "cell_type": "code",
   "execution_count": 4,
   "metadata": {},
   "outputs": [],
   "source": [
    "# Set up some initial transactions\n",
    "dumbcoin.add_transaction(\"genesis\", \"adam\", 1000)\n",
    "dumbcoin.add_transaction(\"genesis\", \"eve\", 1000)\n",
    "# And add them into a new block\n",
    "dumbcoin.add_block()\n",
    "\n",
    "# And some more giving\n",
    "dumbcoin.add_transaction(\"adam\", \"cain\", 100)\n",
    "dumbcoin.add_transaction(\"adam\", \"abel\", 200)\n",
    "dumbcoin.add_block()"
   ]
  },
  {
   "cell_type": "code",
   "execution_count": 5,
   "metadata": {},
   "outputs": [
    {
     "name": "stdout",
     "output_type": "stream",
     "text": [
      "Block: 2,\n",
      "Time: 1516342023.8222039,\n",
      "Proof: 55366,\n",
      "Transactions: [{'sender': 'adam', 'recipient': 'cain', 'amount': 100, 'timestamp': 1516342023.822154}, {'sender': 'adam', 'recipient': 'abel', 'amount': 200, 'timestamp': 1516342023.82218}]\n",
      "\n",
      "Block: 1,\n",
      "Time: 1516342023.766405,\n",
      "Proof: 23609,\n",
      "Transactions: [{'sender': 'genesis', 'recipient': 'adam', 'amount': 1000, 'timestamp': 1516342023.766355}, {'sender': 'genesis', 'recipient': 'eve', 'amount': 1000, 'timestamp': 1516342023.7663832}]\n",
      "\n",
      "Block: 0,\n",
      "Time: 1516342021.5914938,\n",
      "Proof: 57730,\n",
      "Transactions: [{'sender': None, 'recipient': 'genesis', 'amount': 2000, 'timestamp': 1516342021.5914938}]\n",
      "\n",
      "True\n"
     ]
    }
   ],
   "source": [
    "# Print and verify the new chain\n",
    "print(dumbcoin)\n",
    "print(dumbcoin.verify_blockchain(dumbcoin.last_block))"
   ]
  },
  {
   "cell_type": "code",
   "execution_count": 6,
   "metadata": {},
   "outputs": [
    {
     "name": "stdout",
     "output_type": "stream",
     "text": [
      "{'sender': 'adam', 'recipient': 'cain', 'amount': 100, 'timestamp': 1516342023.822154}\n",
      "{'sender': 'adam', 'recipient': 'abel', 'amount': 200, 'timestamp': 1516342023.82218}\n",
      "{'sender': 'genesis', 'recipient': 'adam', 'amount': 1000, 'timestamp': 1516342023.766355}\n",
      "{'sender': 'genesis', 'recipient': 'eve', 'amount': 1000, 'timestamp': 1516342023.7663832}\n",
      "{'sender': None, 'recipient': 'genesis', 'amount': 2000, 'timestamp': 1516342021.5914938}\n",
      "\n",
      "{'sender': None, 'recipient': 'genesis', 'amount': 2000, 'timestamp': 1516342021.5914938}\n",
      "{'sender': 'genesis', 'recipient': 'adam', 'amount': 1000, 'timestamp': 1516342023.766355}\n",
      "{'sender': 'genesis', 'recipient': 'eve', 'amount': 1000, 'timestamp': 1516342023.7663832}\n",
      "{'sender': 'adam', 'recipient': 'cain', 'amount': 100, 'timestamp': 1516342023.822154}\n",
      "{'sender': 'adam', 'recipient': 'abel', 'amount': 200, 'timestamp': 1516342023.82218}\n"
     ]
    }
   ],
   "source": [
    "transactions = dumbcoin.get_settled_transactions(dumbcoin.last_block)\n",
    "for transaction in transactions:\n",
    "    print(transaction)\n",
    "    \n",
    "print()\n",
    "\n",
    "transactions.sort(key=(lambda x: x['timestamp']), reverse=False)\n",
    "for transaction in transactions:\n",
    "    print(transaction)"
   ]
  },
  {
   "cell_type": "code",
   "execution_count": 7,
   "metadata": {},
   "outputs": [
    {
     "data": {
      "text/plain": [
       "3"
      ]
     },
     "execution_count": 7,
     "metadata": {},
     "output_type": "execute_result"
    }
   ],
   "source": [
    "len(dumbcoin)"
   ]
  },
  {
   "cell_type": "code",
   "execution_count": 8,
   "metadata": {},
   "outputs": [
    {
     "name": "stdout",
     "output_type": "stream",
     "text": [
      "{'genesis': 0, 'adam': 700, 'eve': 1000, 'cain': 100, 'abel': 200}\n",
      "True\n",
      "False\n",
      "False\n"
     ]
    }
   ],
   "source": [
    "ledger = dumbcoin.create_ledger(transactions)\n",
    "print(ledger)\n",
    "valid_trans = {\"sender\": \"adam\", \"recipient\": \"eve\", \"amount\": 200, \"timestamp\": time.time()}\n",
    "print(dumbcoin.validate_transaction(valid_trans, transactions))\n",
    "invalid_trans = {\"sender\": \"adam\", \"recipient\": \"cain\", \"amount\": 20000, \"timestamp\": time.time()}\n",
    "print(dumbcoin.validate_transaction(invalid_trans, transactions))\n",
    "really_invalid_trans = {\"sender\": \"lucifer\", \"recipient\": \"cain\", \"amount\": 700, \"timestamp\": time.time()}\n",
    "print(dumbcoin.validate_transaction(really_invalid_trans, transactions))"
   ]
  }
 ],
 "metadata": {
  "kernelspec": {
   "display_name": "Python 3",
   "language": "python",
   "name": "python3"
  },
  "language_info": {
   "codemirror_mode": {
    "name": "ipython",
    "version": 3
   },
   "file_extension": ".py",
   "mimetype": "text/x-python",
   "name": "python",
   "nbconvert_exporter": "python",
   "pygments_lexer": "ipython3",
   "version": "3.6.4"
  }
 },
 "nbformat": 4,
 "nbformat_minor": 2
}
