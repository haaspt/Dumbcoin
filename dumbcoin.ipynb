{
 "cells": [
  {
   "cell_type": "code",
   "execution_count": 1,
   "metadata": {
    "collapsed": true
   },
   "outputs": [],
   "source": [
    "from dumbcoin import Blockchain\n",
    "import time"
   ]
  },
  {
   "cell_type": "code",
   "execution_count": 2,
   "metadata": {
    "collapsed": true
   },
   "outputs": [],
   "source": [
    "# Initialize a blockchain with 2000 initial coins\n",
    "dumbcoin = Blockchain(2000)"
   ]
  },
  {
   "cell_type": "code",
   "execution_count": 3,
   "metadata": {},
   "outputs": [
    {
     "name": "stdout",
     "output_type": "stream",
     "text": [
      "Block: 0,\n",
      "Time: 1516384655.2234187,\n",
      "Proof: 39593,\n",
      "Transactions: [{'amount': 2000, 'sender': None, 'recipient': 'genesis', 'timestamp': 1516384655.2234187}]\n",
      "\n",
      "True\n"
     ]
    }
   ],
   "source": [
    "# Print the blockchain and confirm that it is valid\n",
    "print(dumbcoin)\n",
    "print(dumbcoin.verify_blockchain(dumbcoin.last_block))"
   ]
  },
  {
   "cell_type": "code",
   "execution_count": 4,
   "metadata": {
    "scrolled": true
   },
   "outputs": [
    {
     "name": "stdout",
     "output_type": "stream",
     "text": [
      "Staging transaction: {'amount': 1000, 'sender': 'genesis', 'recipient': 'adam', 'timestamp': 1516384657.584574}\n",
      "Validating new transaction: {'amount': 1000, 'sender': 'genesis', 'recipient': 'adam', 'timestamp': 1516384657.584574}\n",
      "Transaction validated against ledger\n",
      "Transaction stagged. 1 transactions awaiting mining\n",
      "Staging transaction: {'amount': 1000, 'sender': 'genesis', 'recipient': 'eve', 'timestamp': 1516384657.5853496}\n",
      "Validating new transaction: {'amount': 1000, 'sender': 'genesis', 'recipient': 'eve', 'timestamp': 1516384657.5853496}\n",
      "Transaction validated against ledger\n",
      "Transaction stagged. 2 transactions awaiting mining\n",
      "Mining new block with 2 transactions\n",
      "New block at index 1 mined in 0.15718700000002173s\n",
      "Block successfully added to blockchain at index 1\n",
      "Staging transaction: {'amount': 100, 'sender': 'adam', 'recipient': 'cain', 'timestamp': 1516384657.743146}\n",
      "Validating new transaction: {'amount': 100, 'sender': 'adam', 'recipient': 'cain', 'timestamp': 1516384657.743146}\n",
      "Transaction validated against ledger\n",
      "Transaction stagged. 1 transactions awaiting mining\n",
      "Staging transaction: {'amount': 200, 'sender': 'adam', 'recipient': 'abel', 'timestamp': 1516384657.743606}\n",
      "Validating new transaction: {'amount': 200, 'sender': 'adam', 'recipient': 'abel', 'timestamp': 1516384657.743606}\n",
      "Transaction validated against ledger\n",
      "Transaction stagged. 2 transactions awaiting mining\n",
      "Mining new block with 2 transactions\n",
      "New block at index 2 mined in 0.005724999999983993s\n",
      "Block successfully added to blockchain at index 2\n"
     ]
    }
   ],
   "source": [
    "# Set up some initial transactions\n",
    "dumbcoin.add_transaction(\"genesis\", \"adam\", 1000)\n",
    "dumbcoin.add_transaction(\"genesis\", \"eve\", 1000)\n",
    "# And add them into a new block\n",
    "dumbcoin.add_block()\n",
    "\n",
    "# And some more giving\n",
    "dumbcoin.add_transaction(\"adam\", \"cain\", 100)\n",
    "dumbcoin.add_transaction(\"adam\", \"abel\", 200)\n",
    "dumbcoin.add_block()"
   ]
  },
  {
   "cell_type": "code",
   "execution_count": 5,
   "metadata": {},
   "outputs": [
    {
     "name": "stdout",
     "output_type": "stream",
     "text": [
      "Block: 2,\n",
      "Time: 1516384657.744046,\n",
      "Proof: 3156,\n",
      "Transactions: [{'amount': 100, 'sender': 'adam', 'recipient': 'cain', 'timestamp': 1516384657.743146}, {'amount': 200, 'sender': 'adam', 'recipient': 'abel', 'timestamp': 1516384657.743606}]\n",
      "\n",
      "Block: 1,\n",
      "Time: 1516384657.585712,\n",
      "Proof: 75656,\n",
      "Transactions: [{'amount': 1000, 'sender': 'genesis', 'recipient': 'adam', 'timestamp': 1516384657.584574}, {'amount': 1000, 'sender': 'genesis', 'recipient': 'eve', 'timestamp': 1516384657.5853496}]\n",
      "\n",
      "Block: 0,\n",
      "Time: 1516384655.2234187,\n",
      "Proof: 39593,\n",
      "Transactions: [{'amount': 2000, 'sender': None, 'recipient': 'genesis', 'timestamp': 1516384655.2234187}]\n",
      "\n",
      "True\n"
     ]
    }
   ],
   "source": [
    "# Print and verify the new chain\n",
    "print(dumbcoin)\n",
    "print(dumbcoin.verify_blockchain(dumbcoin.last_block))"
   ]
  },
  {
   "cell_type": "code",
   "execution_count": 6,
   "metadata": {},
   "outputs": [
    {
     "name": "stdout",
     "output_type": "stream",
     "text": [
      "{'amount': 2000, 'sender': None, 'recipient': 'genesis', 'timestamp': 1516384655.2234187}\n",
      "{'amount': 1000, 'sender': 'genesis', 'recipient': 'adam', 'timestamp': 1516384657.584574}\n",
      "{'amount': 1000, 'sender': 'genesis', 'recipient': 'eve', 'timestamp': 1516384657.5853496}\n",
      "{'amount': 100, 'sender': 'adam', 'recipient': 'cain', 'timestamp': 1516384657.743146}\n",
      "{'amount': 200, 'sender': 'adam', 'recipient': 'abel', 'timestamp': 1516384657.743606}\n"
     ]
    }
   ],
   "source": [
    "transactions = dumbcoin.get_settled_transactions(dumbcoin.last_block)\n",
    "for transaction in transactions:\n",
    "    print(transaction)"
   ]
  },
  {
   "cell_type": "code",
   "execution_count": 7,
   "metadata": {},
   "outputs": [
    {
     "data": {
      "text/plain": [
       "3"
      ]
     },
     "execution_count": 7,
     "metadata": {},
     "output_type": "execute_result"
    }
   ],
   "source": [
    "len(dumbcoin)"
   ]
  },
  {
   "cell_type": "code",
   "execution_count": 7,
   "metadata": {},
   "outputs": [
    {
     "name": "stdout",
     "output_type": "stream",
     "text": [
      "{'eve': 1000, 'cain': 100, 'abel': 200, 'adam': 700, 'genesis': 0}\n",
      "Validating new transaction: {'amount': 200, 'sender': 'adam', 'recipient': 'eve', 'timestamp': 1516384787.278364}\n",
      "True\n",
      "Validating new transaction: {'amount': 20000, 'sender': 'adam', 'recipient': 'cain', 'timestamp': 1516384787.2787137}\n",
      "False\n",
      "Validating new transaction: {'amount': 700, 'sender': 'lucifer', 'recipient': 'cain', 'timestamp': 1516384787.2790515}\n",
      "False\n"
     ]
    }
   ],
   "source": [
    "ledger = dumbcoin.create_ledger(transactions)\n",
    "print(ledger)\n",
    "valid_trans = {\"sender\": \"adam\", \"recipient\": \"eve\", \"amount\": 200, \"timestamp\": time.time()}\n",
    "print(dumbcoin.validate_transaction(valid_trans, transactions))\n",
    "invalid_trans = {\"sender\": \"adam\", \"recipient\": \"cain\", \"amount\": 20000, \"timestamp\": time.time()}\n",
    "print(dumbcoin.validate_transaction(invalid_trans, transactions))\n",
    "really_invalid_trans = {\"sender\": \"lucifer\", \"recipient\": \"cain\", \"amount\": 700, \"timestamp\": time.time()}\n",
    "print(dumbcoin.validate_transaction(really_invalid_trans, transactions))"
   ]
  },
  {
   "cell_type": "code",
   "execution_count": null,
   "metadata": {
    "collapsed": true
   },
   "outputs": [],
   "source": []
  }
 ],
 "metadata": {
  "kernelspec": {
   "display_name": "Python 3",
   "language": "python",
   "name": "python3"
  },
  "language_info": {
   "codemirror_mode": {
    "name": "ipython",
    "version": 3
   },
   "file_extension": ".py",
   "mimetype": "text/x-python",
   "name": "python",
   "nbconvert_exporter": "python",
   "pygments_lexer": "ipython3",
   "version": "3.4.3"
  }
 },
 "nbformat": 4,
 "nbformat_minor": 2
}
