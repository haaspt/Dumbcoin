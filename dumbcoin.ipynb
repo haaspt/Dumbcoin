{
 "cells": [
  {
   "cell_type": "code",
   "execution_count": 1,
   "metadata": {
    "collapsed": true
   },
   "outputs": [],
   "source": [
    "from dumbcoin import Blockchain\n",
    "import time"
   ]
  },
  {
   "cell_type": "code",
   "execution_count": 2,
   "metadata": {},
   "outputs": [
    {
     "name": "stdout",
     "output_type": "stream",
     "text": [
      "Genesis block mined in 0.3366779999996652s\n"
     ]
    }
   ],
   "source": [
    "# Initialize a blockchain with 2000 initial coins\n",
    "dumbcoin = Blockchain(2000)"
   ]
  },
  {
   "cell_type": "code",
   "execution_count": 3,
   "metadata": {},
   "outputs": [
    {
     "name": "stdout",
     "output_type": "stream",
     "text": [
      "Block: 0,\n",
      "Time: 1516400392.560558,\n",
      "Proof: 156772,\n",
      "Transactions: {'amount': 2000, 'sender': None, 'timestamp': 1516400392.560558, 'recipient': 'genesis'}\n",
      "\n",
      "True\n"
     ]
    }
   ],
   "source": [
    "# Print the blockchain and confirm that it is valid\n",
    "print(dumbcoin)\n",
    "print(dumbcoin.verify_blockchain())"
   ]
  },
  {
   "cell_type": "code",
   "execution_count": 4,
   "metadata": {
    "scrolled": false
   },
   "outputs": [
    {
     "name": "stdout",
     "output_type": "stream",
     "text": [
      "Staging transaction: {'amount': 1000, 'sender': 'genesis', 'timestamp': 1516400395.6153917, 'recipient': 'adam'}\n",
      "Validating transaction: {'amount': 1000, 'sender': 'genesis', 'timestamp': 1516400395.6153917, 'recipient': 'adam'}\n",
      "Transaction validated against ledger\n",
      "Transaction stagged. 1 transactions awaiting mining\n",
      "Staging transaction: {'amount': 1000, 'sender': 'genesis', 'timestamp': 1516400395.616922, 'recipient': 'eve'}\n",
      "Validating transaction: {'amount': 1000, 'sender': 'genesis', 'timestamp': 1516400395.616922, 'recipient': 'eve'}\n",
      "Transaction validated against ledger\n",
      "Transaction stagged. 2 transactions awaiting mining\n",
      "Mining new block with 2 transactions\n",
      "New block at index 1 mined in 0.3457430000016757s\n",
      "Block successfully added to blockchain at index 1\n",
      "Staging transaction: {'amount': 100, 'sender': 'adam', 'timestamp': 1516400395.9635947, 'recipient': 'cain'}\n",
      "Validating transaction: {'amount': 100, 'sender': 'adam', 'timestamp': 1516400395.9635947, 'recipient': 'cain'}\n",
      "Transaction validated against ledger\n",
      "Transaction stagged. 1 transactions awaiting mining\n",
      "Staging transaction: {'amount': 200, 'sender': 'adam', 'timestamp': 1516400395.96399, 'recipient': 'abel'}\n",
      "Validating transaction: {'amount': 200, 'sender': 'adam', 'timestamp': 1516400395.96399, 'recipient': 'abel'}\n",
      "Transaction validated against ledger\n",
      "Transaction stagged. 2 transactions awaiting mining\n",
      "Mining new block with 2 transactions\n",
      "New block at index 2 mined in 0.037142999997740844s\n",
      "Block successfully added to blockchain at index 2\n"
     ]
    }
   ],
   "source": [
    "# Set up some initial transactions\n",
    "dumbcoin.add_transaction(\"genesis\", \"adam\", 1000)\n",
    "dumbcoin.add_transaction(\"genesis\", \"eve\", 1000)\n",
    "# And add them into a new block\n",
    "dumbcoin.add_block()\n",
    "\n",
    "# And some more giving\n",
    "dumbcoin.add_transaction(\"adam\", \"cain\", 100)\n",
    "dumbcoin.add_transaction(\"adam\", \"abel\", 200)\n",
    "dumbcoin.add_block()"
   ]
  },
  {
   "cell_type": "code",
   "execution_count": 5,
   "metadata": {
    "scrolled": true
   },
   "outputs": [
    {
     "name": "stdout",
     "output_type": "stream",
     "text": [
      "Block: 2,\n",
      "Time: 1516400395.9647572,\n",
      "Proof: 19475,\n",
      "Transactions: {'amount': 100, 'sender': 'adam', 'timestamp': 1516400395.9635947, 'recipient': 'cain'}\n",
      "{'amount': 200, 'sender': 'adam', 'timestamp': 1516400395.96399, 'recipient': 'abel'}\n",
      "\n",
      "Block: 1,\n",
      "Time: 1516400395.617381,\n",
      "Proof: 167280,\n",
      "Transactions: {'amount': 1000, 'sender': 'genesis', 'timestamp': 1516400395.6153917, 'recipient': 'adam'}\n",
      "{'amount': 1000, 'sender': 'genesis', 'timestamp': 1516400395.616922, 'recipient': 'eve'}\n",
      "\n",
      "Block: 0,\n",
      "Time: 1516400392.560558,\n",
      "Proof: 156772,\n",
      "Transactions: {'amount': 2000, 'sender': None, 'timestamp': 1516400392.560558, 'recipient': 'genesis'}\n",
      "\n",
      "True\n"
     ]
    }
   ],
   "source": [
    "# Print and verify the new chain\n",
    "print(dumbcoin)\n",
    "print(dumbcoin.verify_blockchain())"
   ]
  },
  {
   "cell_type": "code",
   "execution_count": 12,
   "metadata": {},
   "outputs": [
    {
     "name": "stdout",
     "output_type": "stream",
     "text": [
      "Genesis block mined in 0.1376879999988887s\n",
      "Genesis block mined in 7.226195999999618s\n",
      "Genesis block mined in 33.77036200000293s\n"
     ]
    }
   ],
   "source": [
    "# The level of complexity for the mining process can be manually set\n",
    "# But higher levels come at an alarming cost to speed\n",
    "dumbcoin = Blockchain(complexity_level=4)\n",
    "dumbercoin = Blockchain(complexity_level=5)\n",
    "dumbestcoin = Blockchain(complexity_level=6)"
   ]
  },
  {
   "cell_type": "code",
   "execution_count": null,
   "metadata": {
    "collapsed": true
   },
   "outputs": [],
   "source": []
  }
 ],
 "metadata": {
  "kernelspec": {
   "display_name": "Python 3",
   "language": "python",
   "name": "python3"
  },
  "language_info": {
   "codemirror_mode": {
    "name": "ipython",
    "version": 3
   },
   "file_extension": ".py",
   "mimetype": "text/x-python",
   "name": "python",
   "nbconvert_exporter": "python",
   "pygments_lexer": "ipython3",
   "version": "3.4.3"
  }
 },
 "nbformat": 4,
 "nbformat_minor": 2
}
